{
  "nbformat": 4,
  "nbformat_minor": 0,
  "metadata": {
    "colab": {
      "provenance": [],
      "authorship_tag": "ABX9TyPP/5pCB7BO5BAbFFaxlzil",
      "include_colab_link": true
    },
    "kernelspec": {
      "name": "python3",
      "display_name": "Python 3"
    },
    "language_info": {
      "name": "python"
    }
  },
  "cells": [
    {
      "cell_type": "markdown",
      "metadata": {
        "id": "view-in-github",
        "colab_type": "text"
      },
      "source": [
        "<a href=\"https://colab.research.google.com/github/LohanRosa/exercicios-3-4/blob/main/exercicios_3_e_4.ipynb\" target=\"_parent\"><img src=\"https://colab.research.google.com/assets/colab-badge.svg\" alt=\"Open In Colab\"/></a>"
      ]
    },
    {
      "cell_type": "code",
      "execution_count": null,
      "metadata": {
        "colab": {
          "base_uri": "https://localhost:8080/"
        },
        "id": "QIoCK3jHR7c_",
        "outputId": "fbf2c25b-f5b4-4f56-cda0-2d28cc343a37"
      },
      "outputs": [
        {
          "output_type": "stream",
          "name": "stdout",
          "text": [
            "40.884\n",
            "41.91\n"
          ]
        }
      ],
      "source": [
        "import numpy as np\n",
        "from scipy.stats import ttest_1samp\n",
        "\n",
        "populacao = np.random.randint(18, 65, 1000)\n",
        "\n",
        "amostra = np.random.choice(populacao, size=100)\n",
        "\n",
        "media_populacao = np.mean(populacao)\n",
        "media_amostra = np.mean(amostra)\n",
        "\n",
        "print(media_populacao)\n",
        "print(media_amostra)"
      ]
    },
    {
      "cell_type": "markdown",
      "source": [
        "Suponha que você está trabalhando em uma pesquisa sobre altura de estudantes universitários. Você coletou dados de altura de 50 estudantes e deseja calcular o Z-score para um estudante específico. A média da altura dos estudantes é de 1,75m com um desvio padrão de 0,10m. O estudante que você deseja analisar tem uma altura de 1,85m. Escreva um programa em Python que calcule o Z-score da altura deste estudante e imprima o resultado na tela.\n"
      ],
      "metadata": {
        "id": "nm0gbJOgXr_a"
      }
    },
    {
      "cell_type": "code",
      "source": [
        "# coletar dados de altura de 50 estudantes\n",
        "# z-score z = (x - x̄) / (s / √n)\n",
        "\n",
        "n=50\n",
        "altura_media= 175\n",
        "desvio_padrao= 0.10\n",
        "altura_estudante= 185\n",
        "\n",
        "z_score = (altura_estudante-altura_media)/desvio_padrao\n",
        "\n",
        "print(z_score)"
      ],
      "metadata": {
        "colab": {
          "base_uri": "https://localhost:8080/"
        },
        "id": "1nEexk7TSAUz",
        "outputId": "5fc7a5dd-3111-404b-e77c-81cb523e3f65"
      },
      "execution_count": null,
      "outputs": [
        {
          "output_type": "stream",
          "name": "stdout",
          "text": [
            "100.0 100.0\n"
          ]
        }
      ]
    },
    {
      "cell_type": "markdown",
      "source": [
        "Qual o intervalo de confiança para a média salarial de um grupo de funcionários de uma empresa. supondo a lista de valores abaixo e considerando 95% de confiança?\n",
        "\n",
        "[2500, 2800, 3200, 2900, 3100, 3000, 2800, 2600, 2900, 2700, 3000, 2800]"
      ],
      "metadata": {
        "id": "Tzft8CNBal9U"
      }
    },
    {
      "cell_type": "code",
      "source": [
        "import statistics\n",
        "from scipy.stats import norm\n",
        "\n",
        "salario = [2500, 2800, 3200, 2900, 3100, 3000, 2800, 2600, 2900, 2700, 3000, 2800]\n",
        "\n",
        "media_salario = np.mean(salario)\n",
        "\n",
        "desvio_padrao = np.std(salario)\n",
        "\n",
        "#nível de confiança 95%\n",
        "nivel_confianca = 0.95\n",
        "prob = (1 - nivel_confianca)/ 2\n",
        "z_score = norm.ppf(1 - prob)\n",
        "\n",
        "tamanho_amostra = len(salario)\n",
        "\n",
        "erro_padrao= z_score*( desvio_padrao / np.sqrt(len(salario)))\n",
        "limite_superior = media_salario + erro_padrao\n",
        "limite_inferior = media_salario - erro_padrao\n",
        "\n",
        "print(f'O intervalo de confiança para a média salarial é de {limite_inferior:.2f} a {limite_superior:.2f} reais com {nivel_confianca*100:.0f}% de confiança.')"
      ],
      "metadata": {
        "colab": {
          "base_uri": "https://localhost:8080/"
        },
        "id": "_tt9ipYlXC67",
        "outputId": "516de464-d96f-491c-e1e2-fe49eff4f8e4"
      },
      "execution_count": null,
      "outputs": [
        {
          "output_type": "stream",
          "name": "stdout",
          "text": [
            "O intervalo de confiança para a média salarial é de 2748.87 a 2967.80 reais com 95% de confiança.\n"
          ]
        }
      ]
    },
    {
      "cell_type": "markdown",
      "source": [
        "Exercício 4\n",
        "Suponha que você trabalha em uma empresa de fabricação de baterias para carros elétricos e quer testar se a vida útil das baterias produzidas pela sua empresa é maior do que a vida útil média da indústria, que é de 5 anos. Você coleta uma amostra aleatória de 50 baterias produzidas por sua empresa e mede suas vidas úteis. Você quer testar se a vida útil média das baterias produzidas por sua empresa é significativamente maior do que 5 anos.\n",
        "\n",
        "A hipótese nula (H0) é que a vida útil média das baterias produzidas por sua empresa é igual a 5 anos. A hipótese alternativa (H1) é que a vida útil média é maior do que 5 anos.\n",
        "\n",
        "Considere nível de significância igual a 95%."
      ],
      "metadata": {
        "id": "8Tc2WXqyf-BT"
      }
    },
    {
      "cell_type": "code",
      "source": [
        "import numpy as np\n",
        "import math\n",
        "import scipy.stats as stats\n",
        "\n",
        "# Dados amostrais\n",
        "n = 50  # tamanho da amostra\n",
        "x_barra = 5.4  # média amostral (vida útil média das baterias produzidas pela empresa)\n",
        "s = 0.8  # desvio padrão amostral\n",
        "\n",
        "# Hipóteses\n",
        "mu0 = 5  # vida útil média nula (vida útil média da indústria)\n",
        "alpha = 0.05  # nível de significância\n",
        "\n",
        "# Estatística de teste (t-score)\n",
        "t = (x_barra - mu0) / (s / math.sqrt(n))\n",
        "\n",
        "# Valor crítico\n",
        "tc = stats.t.ppf(1 - alpha, df=n-1)\n",
        "\n",
        "# Valor p (p-value)\n",
        "p_valor = stats.t.sf(np.abs(t), df=n-1)\n",
        "\n",
        "# Decisão\n",
        "if t > tc:\n",
        "    print(f'Rejeitamos H0 ao nível de significância de {alpha} e concluímos que a vida útil média das baterias produzidas pela empresa é significativamente maior do que 5 anos.')\n",
        "else:\n",
        "    print(f'Não rejeitamos H0 ao nível de significância de {alpha} e concluímos que não há evidência suficiente para afirmar que a vida útil média das baterias produzidas pela empresa é maior do que 5 anos.')\n",
        "\n",
        "print(f'O valor p é {p_valor}.')"
      ],
      "metadata": {
        "colab": {
          "base_uri": "https://localhost:8080/"
        },
        "id": "759Z8AgVbABB",
        "outputId": "4ce47164-2283-4f16-8806-905a6dd0f77c"
      },
      "execution_count": null,
      "outputs": [
        {
          "output_type": "stream",
          "name": "stdout",
          "text": [
            "Rejeitamos H0 ao nível de significância de 0.05 e concluímos que a vida útil média das baterias produzidas pela empresa é significativamente maior do que 5 anos.\n",
            "O valor p é 0.0004500014834744017.\n"
          ]
        }
      ]
    },
    {
      "cell_type": "code",
      "source": [],
      "metadata": {
        "id": "dLTUudWggFYw"
      },
      "execution_count": null,
      "outputs": []
    },
    {
      "cell_type": "code",
      "source": [],
      "metadata": {
        "id": "UqHGkV3ogGxF"
      },
      "execution_count": null,
      "outputs": []
    },
    {
      "cell_type": "code",
      "source": [],
      "metadata": {
        "id": "WR7vr_NYgG0a"
      },
      "execution_count": null,
      "outputs": []
    },
    {
      "cell_type": "markdown",
      "source": [
        "semana 4"
      ],
      "metadata": {
        "id": "Bq9WKjLzgHgu"
      }
    },
    {
      "cell_type": "code",
      "source": [
        "import numpy as np\n",
        "import math\n",
        "import scipy.stats as stats\n",
        "from scipy.stats import f_oneway\n",
        "from scipy.stats import ttest_ind\n",
        "from scipy.stats import ttest_rel"
      ],
      "metadata": {
        "id": "nwujL5RDgG4Z"
      },
      "execution_count": null,
      "outputs": []
    },
    {
      "cell_type": "markdown",
      "source": [
        "Exercício 1\n",
        "Suponha que você está estudando o desempenho de duas equipes de basquete, A e B. Você coleta aleatoriamente dados sobre o número de pontos que cada equipe marcou em seus últimos 10 jogos. Os dados são os seguintes:\n",
        "\n",
        "Equipe A: [90, 82, 76, 88, 94, 89, 85, 91, 87, 80]\n",
        "\n",
        "Equipe B: [86, 78, 72, 84, 92, 87, 83, 89, 85, 78]\n",
        "\n",
        "Você deseja saber se há diferença significativa entre as médias de pontos marcados pelas duas equipes.\n",
        "\n",
        "Considere um nível de significância de 5%¨."
      ],
      "metadata": {
        "id": "bwKBHkYGZd3G"
      }
    },
    {
      "cell_type": "code",
      "source": [
        "A = [90, 82, 76, 88, 94, 89, 85, 91, 87, 80]\n",
        "B = [86, 78, 72, 84, 92, 87, 83, 89, 85, 78]\n",
        "\n",
        "#medias e desvio padrão de A\n",
        "mean_A = np.mean(A)\n",
        "std_A = np.std(A)\n",
        "\n",
        "#media e desvio padrão de B\n",
        "mean_B = np.mean(B)\n",
        "std_B = np.std(B)\n",
        "\n",
        "print(mean_A)\n",
        "print(std_A)\n",
        "print(mean_B)\n",
        "print(std_B)\n",
        "\n",
        "t, p = ttest_ind(A, B)\n",
        "print(p)\n",
        "\n",
        "#signigicancia\n",
        "significancia = 0.05/2\n",
        "\n",
        "#verificando o resultado do teste\n",
        "if p > significancia:\n",
        "  print('Não rejeitamos a hipotese nula')\n",
        "else:\n",
        "  print('rejeitamos a hipotese nula')"
      ],
      "metadata": {
        "id": "EU7U66aqf8Jf",
        "colab": {
          "base_uri": "https://localhost:8080/"
        },
        "outputId": "87d1b1c3-1176-483e-fcd8-a4b8bb9313be"
      },
      "execution_count": null,
      "outputs": [
        {
          "output_type": "stream",
          "name": "stdout",
          "text": [
            "86.2\n",
            "5.2115256883181535\n",
            "83.4\n",
            "5.624944444170094\n",
            "0.2877630679001254\n",
            "Não rejeitamos a hipotese nula\n"
          ]
        }
      ]
    },
    {
      "cell_type": "markdown",
      "source": [
        "Exercício 2\n",
        "Suponha que você está estudando o efeito de um novo tratamento em pacientes com pressão alta. Você seleciona aleatoriamente 10 pacientes e mede sua pressão arterial antes e depois de receberem o tratamento. Os dados são os seguintes:\n",
        "\n",
        "Paciente\tPressão arterial antes\tPressão arterial depois\n",
        "1\t140\t130\n",
        "2\t132\t128\n",
        "3\t136\t132\n",
        "4\t142\t138\n",
        "5\t138\t132\n",
        "6\t130\t126\n",
        "7\t146\t142\n",
        "8\t134\t130\n",
        "9\t128\t124\n",
        "10\t144\t140\n",
        "Você deseja saber se o tratamento teve um efeito significativo na pressão arterial dos pacientes.\n",
        "\n",
        "Considere nível de significância (alpha) = 5%"
      ],
      "metadata": {
        "id": "7uXz7cW2er87"
      }
    },
    {
      "cell_type": "code",
      "source": [
        "from scipy import stats\n",
        "import numpy as np\n",
        "\n",
        "#grupo 1 antes\n",
        "antes= [140, 132, 136, 142, 138, 130, 146, 134, 128, 144]\n",
        "\n",
        "#grupo 1 depois\n",
        "depois= [130, 128, 132, 138, 132, 126, 142, 130, 124, 140]\n",
        "\n",
        "t, p = ttest_rel(antes, depois)\n",
        "print(p)\n",
        "print(t)"
      ],
      "metadata": {
        "colab": {
          "base_uri": "https://localhost:8080/"
        },
        "id": "IiFfm4pQcliN",
        "outputId": "c74631c4-c1df-4969-91c2-77706bdc6cf1"
      },
      "execution_count": null,
      "outputs": [
        {
          "output_type": "stream",
          "name": "stdout",
          "text": [
            "2.5588242922368e-05\n",
            "7.855844048495724\n"
          ]
        }
      ]
    },
    {
      "cell_type": "markdown",
      "source": [
        "Exercício 3\n",
        "Suponha que você trabalha em uma empresa de eletrônicos e está testando dois tipos diferentes de baterias para smartphones. Você seleciona aleatoriamente 30 smartphones e os divide em dois grupos de 15. Um grupo recebe a bateria do tipo A e o outro recebe a bateria do tipo B. Você mede a duração da bateria em horas e os resultados são os seguintes:\n",
        "\n",
        "Grupo A: 15, 12, 13, 14, 17, 12, 13, 14, 16, 18, 16, 14, 13, 14, 12 Grupo B: 18, 17, 19, 16, 20, 17, 18, 20, 21, 22, 17, 19, 18, 20, 19\n",
        "\n",
        "Você deseja saber se há uma diferença significativa na duração da bateria entre os dois tipos de bateria.\n",
        "\n",
        "Considere nível de significância (alpha) = 1%"
      ],
      "metadata": {
        "id": "yJei2-ccgYKY"
      }
    },
    {
      "cell_type": "code",
      "source": [
        "from scipy.stats import ttest_ind_from_stats"
      ],
      "metadata": {
        "id": "sXXG-XrTf-r2"
      },
      "execution_count": null,
      "outputs": []
    },
    {
      "cell_type": "code",
      "source": [
        "a_duration = [15, 12, 13, 14, 17, 12, 13, 14, 16, 18, 16, 14, 13, 14, 12]\n",
        "\n",
        "b_duration = [18, 17, 19, 16, 20, 17, 18, 20, 21, 22, 17, 19, 18, 20, 19]\n",
        "\n",
        "mean_a = np.mean(a_duration)\n",
        "std_a= np.std(a_duration)\n",
        "size_a= len(a_duration)\n",
        "\n",
        "mean_b = np.mean(b_duration)\n",
        "std_b = np.std(b_duration)\n",
        "size_b = len(b_duration)\n",
        "\n",
        "t, p = ttest_ind_from_stats(mean_a, std_a, size_a, mean_b, std_b, size_b)\n",
        "\n",
        "print(p)"
      ],
      "metadata": {
        "colab": {
          "base_uri": "https://localhost:8080/"
        },
        "id": "3wZKmprigyaN",
        "outputId": "99063e24-b576-47a4-8890-75a818a54a01"
      },
      "execution_count": null,
      "outputs": [
        {
          "output_type": "stream",
          "name": "stdout",
          "text": [
            "6.378727323237645e-08\n"
          ]
        }
      ]
    },
    {
      "cell_type": "markdown",
      "source": [
        "Exercício 4\n",
        "Suponha que você é um pesquisador que está interessado em saber se há uma diferença significativa na idade média entre dois grupos de pessoas que participaram de um estudo sobre saúde. O grupo 1 é composto por 50 pessoas e tem uma idade média de 35 anos com um desvio padrão de 5 anos. O grupo 2 é composto por 40 pessoas e tem uma idade média de 40 anos com um desvio padrão de 6 anos. Use um nível de significância de 5% e teste a hipótese nula de que não há diferença significativa na idade média entre os dois grupos."
      ],
      "metadata": {
        "id": "Qf4SoobHibhq"
      }
    },
    {
      "cell_type": "code",
      "source": [
        "#ho: não há diferença siginificativa\n",
        "#ha: há diferença significativa\n",
        "\n",
        "#grupo 1\n",
        "mean_a = 35\n",
        "std_a = 5\n",
        "size_a = 50\n",
        "\n",
        "#grupo 2\n",
        "mean_b = 40\n",
        "std_b = 6\n",
        "size_b = 40\n",
        "\n",
        "t, p = ttest_ind_from_stats(mean_a, std_a, size_a, mean_b, std_b, size_b)\n",
        "print(p)"
      ],
      "metadata": {
        "colab": {
          "base_uri": "https://localhost:8080/"
        },
        "id": "68A-cBlsh-k2",
        "outputId": "b5dcda43-50ca-4f2f-c494-9432b0036b0c"
      },
      "execution_count": null,
      "outputs": [
        {
          "output_type": "stream",
          "name": "stdout",
          "text": [
            "4.2053990302073186e-05\n"
          ]
        }
      ]
    },
    {
      "cell_type": "code",
      "source": [],
      "metadata": {
        "id": "QAs_Ipyljc7X"
      },
      "execution_count": null,
      "outputs": []
    },
    {
      "cell_type": "markdown",
      "source": [
        "Exercício 5\n",
        "Um pesquisador está interessado em saber se há diferenças significativas no tempo de resposta de três grupos de pacientes a um determinado tratamento. Ele coletou dados de tempo de resposta de 10 pacientes em cada grupo. Os dados estão armazenados em três conjuntos de dados: grupo1, grupo2 e grupo3. Use um nível de significância de 5% e realize uma análise de variância (ANOVA) para determinar se há diferenças significativas entre as médias dos grupos.\n",
        "\n",
        "grupo1 = [12, 14, 16, 18, 20, 22, 24, 26, 28, 30]\n",
        "\n",
        "grupo2 = [15, 17, 19, 21, 23, 25, 27, 29, 31, 33]\n",
        "\n",
        "grupo3 = [18, 20, 22, 24, 26, 28, 30, 32, 34, 36]"
      ],
      "metadata": {
        "id": "UKo-MuzzjuTb"
      }
    },
    {
      "cell_type": "code",
      "source": [
        "grupo1 = [12, 14, 16, 18, 20, 22, 24, 26, 28, 30]\n",
        "grupo2 = [15, 17, 19, 21, 23, 25, 27, 29, 31, 33]\n",
        "grupo3 = [18, 20, 22, 24, 26, 28, 30, 32, 34, 36]\n",
        "\n",
        "stats, p = f_oneway(grupo1, grupo2, grupo3)\n",
        "print(stats)\n",
        "print(p)"
      ],
      "metadata": {
        "colab": {
          "base_uri": "https://localhost:8080/"
        },
        "id": "qwJSjIYxjwrQ",
        "outputId": "96a08167-1caf-4045-9574-71b80028dd80"
      },
      "execution_count": null,
      "outputs": [
        {
          "output_type": "stream",
          "name": "stdout",
          "text": [
            "2.4545454545454546\n",
            "0.1048494106064081\n"
          ]
        }
      ]
    },
    {
      "cell_type": "code",
      "source": [],
      "metadata": {
        "id": "V_H1uTRUkZun"
      },
      "execution_count": null,
      "outputs": []
    }
  ]
}